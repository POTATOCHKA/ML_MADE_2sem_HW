{
 "cells": [
  {
   "cell_type": "code",
   "execution_count": 1,
   "id": "301c0ba4",
   "metadata": {
    "ExecuteTime": {
     "end_time": "2022-04-17T19:38:02.059963Z",
     "start_time": "2022-04-17T19:38:01.186405Z"
    }
   },
   "outputs": [],
   "source": [
    "import pandas as pd\n",
    "import numpy as np\n",
    "import pickle\n",
    "import random\n",
    "import matplotlib.pyplot as plt\n",
    "import random\n",
    "from sklearn.preprocessing import OneHotEncoder\n",
    "from sklearn.linear_model import LogisticRegression\n",
    "from sklearn.linear_model import LinearRegression\n",
    "from scipy.stats import spearmanr\n",
    "from scipy.stats import kendalltau\n",
    "import tqdm\n",
    "import math\n",
    "import warnings\n",
    "warnings.filterwarnings('ignore')"
   ]
  },
  {
   "cell_type": "markdown",
   "id": "2319686d",
   "metadata": {},
   "source": [
    "### 1.Читаю данные и готовлю"
   ]
  },
  {
   "cell_type": "code",
   "execution_count": 2,
   "id": "759cdfc3",
   "metadata": {
    "ExecuteTime": {
     "end_time": "2022-04-17T19:38:06.023639Z",
     "start_time": "2022-04-17T19:38:02.061192Z"
    }
   },
   "outputs": [],
   "source": [
    "players = pd.DataFrame.from_dict(pd.read_pickle('players.pkl')).T\n",
    "tournaments = pd.DataFrame.from_dict(pd.read_pickle('tournaments.pkl')).T"
   ]
  },
  {
   "cell_type": "code",
   "execution_count": 3,
   "id": "e24cf5a7",
   "metadata": {
    "ExecuteTime": {
     "end_time": "2022-04-17T19:38:16.193742Z",
     "start_time": "2022-04-17T19:38:06.026225Z"
    }
   },
   "outputs": [],
   "source": [
    "dict_of_result = pd.read_pickle('results.pkl')"
   ]
  },
  {
   "cell_type": "code",
   "execution_count": 4,
   "id": "5e48935d",
   "metadata": {
    "ExecuteTime": {
     "end_time": "2022-04-17T19:38:16.202274Z",
     "start_time": "2022-04-17T19:38:16.197058Z"
    }
   },
   "outputs": [],
   "source": [
    "tournaments['dateStart'] = tournaments['dateStart'].apply(lambda x: x[:4])"
   ]
  },
  {
   "cell_type": "code",
   "execution_count": 5,
   "id": "758b9bdd",
   "metadata": {
    "ExecuteTime": {
     "end_time": "2022-04-17T19:38:16.214735Z",
     "start_time": "2022-04-17T19:38:16.205239Z"
    }
   },
   "outputs": [],
   "source": [
    "train_id_tourn = tournaments[tournaments['dateStart'] == '2019']['id'].tolist()\n",
    "test_id_tourn = tournaments[tournaments['dateStart'] == '2020']['id'].tolist()"
   ]
  },
  {
   "cell_type": "code",
   "execution_count": 6,
   "id": "82f79aac",
   "metadata": {
    "ExecuteTime": {
     "end_time": "2022-04-17T19:38:16.222614Z",
     "start_time": "2022-04-17T19:38:16.215874Z"
    },
    "code_folding": []
   },
   "outputs": [],
   "source": [
    "def create_train(results, train_id):\n",
    "    res = []\n",
    "    for idx in train_id:\n",
    "        result = results[idx]\n",
    "        for team in result:\n",
    "            if 'mask' in team and team['mask'] is not None and 'teamMembers' in team:\n",
    "                for team_members in team['teamMembers']:\n",
    "                    for id_quest, ball in enumerate(team['mask']):\n",
    "                        if ball.isdigit():                   \n",
    "                            question_id = str(idx) + ' ' + str(id_quest)\n",
    "                            res.append([idx, team_members['player']['id'], question_id, int(ball)])\n",
    "    random.shuffle(res)\n",
    "    return pd.DataFrame(res, columns = ['tour_id', 'member_id', 'quest_id', 'results'])"
   ]
  },
  {
   "cell_type": "code",
   "execution_count": 7,
   "id": "0f18552f",
   "metadata": {
    "ExecuteTime": {
     "end_time": "2022-04-17T19:39:35.048069Z",
     "start_time": "2022-04-17T19:38:16.224732Z"
    }
   },
   "outputs": [],
   "source": [
    "train = create_train(dict_of_result, train_id_tourn)"
   ]
  },
  {
   "cell_type": "code",
   "execution_count": 8,
   "id": "741ab835",
   "metadata": {
    "ExecuteTime": {
     "end_time": "2022-04-17T19:39:35.055486Z",
     "start_time": "2022-04-17T19:39:35.051063Z"
    }
   },
   "outputs": [],
   "source": [
    "def create_test(results, test_id):\n",
    "    res = []\n",
    "    for idx in test_id:\n",
    "        result = results[idx]\n",
    "        teams = []\n",
    "        members = []\n",
    "        for team in result:\n",
    "            teams.append(team['team']['id'])\n",
    "            members.append([])\n",
    "            for member in team['teamMembers']:\n",
    "                members[-1].append(member['player']['id'])\n",
    "        res.append([idx, teams, members])\n",
    "            \n",
    "    return pd.DataFrame(res, columns = ['tour_id', 'teams_id', 'members_id'])"
   ]
  },
  {
   "cell_type": "markdown",
   "id": "301cafc8",
   "metadata": {},
   "source": [
    "Выбрасываю все плохие записи о турнирах(если нет игроков, если длины не совпадают итд)"
   ]
  },
  {
   "cell_type": "code",
   "execution_count": 9,
   "id": "276631d5",
   "metadata": {
    "ExecuteTime": {
     "end_time": "2022-04-17T19:39:35.546369Z",
     "start_time": "2022-04-17T19:39:35.057580Z"
    }
   },
   "outputs": [
    {
     "name": "stdout",
     "output_type": "stream",
     "text": [
      "{0, 1, 2, 3, 4, 5, 6, 7, 8, 9, 10, 11, 12, 13, 14, 15, 16, 17, 18, 21, 22, 23, 24, 25, 26, 27, 28, 29, 30, 32, 35, 36, 37, 38, 39, 40, 41, 42, 43, 44, 45, 46, 47, 48, 49, 50, 51, 52, 53, 54, 56, 57, 58, 59, 60, 61, 62, 63, 64, 65, 66, 67, 68, 69, 70, 71, 72, 73, 74, 75, 76, 77, 78, 79, 82, 83, 84, 85, 86, 87, 88, 91, 92, 93, 94, 95, 96, 97, 98, 99, 100, 101, 102, 103, 104, 106, 107, 108, 109, 110, 111, 112, 113, 114, 115, 116, 117, 118, 119, 120, 121, 122, 123, 124, 125, 127, 128, 129, 130, 131, 132, 133, 134, 135, 136, 137, 138, 139, 140, 141, 142, 143, 144, 145, 146, 147, 148, 149, 150, 151, 152, 153, 155, 156, 157, 158, 159, 160, 161, 162, 163, 164, 165, 166, 167, 168, 169, 170, 171, 172, 173, 174, 175, 176, 179, 180, 181, 182, 184, 187, 188, 189, 190, 191, 192, 193}\n"
     ]
    },
    {
     "data": {
      "text/html": [
       "<div>\n",
       "<style scoped>\n",
       "    .dataframe tbody tr th:only-of-type {\n",
       "        vertical-align: middle;\n",
       "    }\n",
       "\n",
       "    .dataframe tbody tr th {\n",
       "        vertical-align: top;\n",
       "    }\n",
       "\n",
       "    .dataframe thead th {\n",
       "        text-align: right;\n",
       "    }\n",
       "</style>\n",
       "<table border=\"1\" class=\"dataframe\">\n",
       "  <thead>\n",
       "    <tr style=\"text-align: right;\">\n",
       "      <th></th>\n",
       "      <th>tour_id</th>\n",
       "      <th>teams_id</th>\n",
       "      <th>members_id</th>\n",
       "    </tr>\n",
       "  </thead>\n",
       "  <tbody>\n",
       "    <tr>\n",
       "      <th>19</th>\n",
       "      <td>5753</td>\n",
       "      <td>[48583, 49225, 4032, 74621, 4252, 57024, 4622,...</td>\n",
       "      <td>[[72211, 10695, 40939, 76264, 36844], [57032, ...</td>\n",
       "    </tr>\n",
       "    <tr>\n",
       "      <th>20</th>\n",
       "      <td>5754</td>\n",
       "      <td>[65510, 50032, 62868, 48052, 75600, 4989, 7465...</td>\n",
       "      <td>[[3088, 52047, 1599, 23486], [23737, 28689, 20...</td>\n",
       "    </tr>\n",
       "    <tr>\n",
       "      <th>31</th>\n",
       "      <td>5823</td>\n",
       "      <td>[5170, 2855, 2826, 60039, 42100, 718, 28369, 6...</td>\n",
       "      <td>[[8915, 31980, 35604, 20864, 31981, 16589], [8...</td>\n",
       "    </tr>\n",
       "    <tr>\n",
       "      <th>33</th>\n",
       "      <td>5848</td>\n",
       "      <td>[47075, 72609, 670, 5455, 51739, 55867, 3875, ...</td>\n",
       "      <td>[[38458, 56000, 42511, 5990, 62252, 39596], [1...</td>\n",
       "    </tr>\n",
       "    <tr>\n",
       "      <th>34</th>\n",
       "      <td>5849</td>\n",
       "      <td>[49804, 48052, 51514, 4109, 55867, 47075, 5018...</td>\n",
       "      <td>[[30152, 27822, 28751, 30270, 27403, 4270], [6...</td>\n",
       "    </tr>\n",
       "    <tr>\n",
       "      <th>55</th>\n",
       "      <td>6045</td>\n",
       "      <td>[56211, 59419, 49146, 60977, 76986, 69703]</td>\n",
       "      <td>[[137496, 87809, 139390, 72302, 60898, 61948, ...</td>\n",
       "    </tr>\n",
       "    <tr>\n",
       "      <th>80</th>\n",
       "      <td>6162</td>\n",
       "      <td>[54799, 65697, 48762, 54238, 53877, 76705, 539...</td>\n",
       "      <td>[[149723, 131911, 131910, 147450, 149724, 1319...</td>\n",
       "    </tr>\n",
       "    <tr>\n",
       "      <th>81</th>\n",
       "      <td>6163</td>\n",
       "      <td>[76498, 48303, 60015, 65787, 55270, 48278, 623...</td>\n",
       "      <td>[[24850, 39431, 79987, 102108, 77954, 180753, ...</td>\n",
       "    </tr>\n",
       "    <tr>\n",
       "      <th>89</th>\n",
       "      <td>6181</td>\n",
       "      <td>[4795, 227, 49419, 40247, 318, 27161, 317, 553...</td>\n",
       "      <td>[[59103, 60252, 66121, 163947, 37518, 83335], ...</td>\n",
       "    </tr>\n",
       "    <tr>\n",
       "      <th>90</th>\n",
       "      <td>6182</td>\n",
       "      <td>[5379, 54414, 40247, 55270, 5534, 66744, 47425...</td>\n",
       "      <td>[[7361, 152977, 175002], [130283, 66122, 16568...</td>\n",
       "    </tr>\n",
       "    <tr>\n",
       "      <th>105</th>\n",
       "      <td>6204</td>\n",
       "      <td>[57542, 42364, 65230, 61364]</td>\n",
       "      <td>[[36940, 62093, 18477, 159213, 141717, 173014]...</td>\n",
       "    </tr>\n",
       "    <tr>\n",
       "      <th>126</th>\n",
       "      <td>6234</td>\n",
       "      <td>[54613, 51228, 27130, 3639, 8328, 55015, 26958...</td>\n",
       "      <td>[[3767, 36568, 117262, 69243, 140120, 63149], ...</td>\n",
       "    </tr>\n",
       "    <tr>\n",
       "      <th>154</th>\n",
       "      <td>6294</td>\n",
       "      <td>[72191]</td>\n",
       "      <td>[[199826, 199976, 200021, 200045]]</td>\n",
       "    </tr>\n",
       "    <tr>\n",
       "      <th>177</th>\n",
       "      <td>6350</td>\n",
       "      <td>[74439, 51228, 70685, 62281, 61913, 47306, 733...</td>\n",
       "      <td>[[15595, 18543, 16621, 12318, 7773, 58616], [1...</td>\n",
       "    </tr>\n",
       "    <tr>\n",
       "      <th>178</th>\n",
       "      <td>6362</td>\n",
       "      <td>[55171]</td>\n",
       "      <td>[[41255, 3276, 104169, 133765, 128896, 10288, ...</td>\n",
       "    </tr>\n",
       "    <tr>\n",
       "      <th>183</th>\n",
       "      <td>6400</td>\n",
       "      <td>[27177, 78351, 55864, 62868, 50186, 40904, 782...</td>\n",
       "      <td>[[16837, 18583, 23321, 29531, 31493, 37718], [...</td>\n",
       "    </tr>\n",
       "    <tr>\n",
       "      <th>185</th>\n",
       "      <td>6409</td>\n",
       "      <td>[78037, 54373, 60732]</td>\n",
       "      <td>[[9739], [130152, 116537, 54315, 39044], [1334...</td>\n",
       "    </tr>\n",
       "    <tr>\n",
       "      <th>186</th>\n",
       "      <td>6410</td>\n",
       "      <td>[55283, 77961, 2111, 60732, 63157]</td>\n",
       "      <td>[[31999, 67805, 21337, 70888], [4414, 111255],...</td>\n",
       "    </tr>\n",
       "    <tr>\n",
       "      <th>194</th>\n",
       "      <td>6470</td>\n",
       "      <td>[51228]</td>\n",
       "      <td>[[12511, 26513, 29500]]</td>\n",
       "    </tr>\n",
       "    <tr>\n",
       "      <th>195</th>\n",
       "      <td>6471</td>\n",
       "      <td>[55191, 66389]</td>\n",
       "      <td>[[15683, 35857, 57018, 57022, 90835], [176743,...</td>\n",
       "    </tr>\n",
       "  </tbody>\n",
       "</table>\n",
       "</div>"
      ],
      "text/plain": [
       "     tour_id                                           teams_id  \\\n",
       "19      5753  [48583, 49225, 4032, 74621, 4252, 57024, 4622,...   \n",
       "20      5754  [65510, 50032, 62868, 48052, 75600, 4989, 7465...   \n",
       "31      5823  [5170, 2855, 2826, 60039, 42100, 718, 28369, 6...   \n",
       "33      5848  [47075, 72609, 670, 5455, 51739, 55867, 3875, ...   \n",
       "34      5849  [49804, 48052, 51514, 4109, 55867, 47075, 5018...   \n",
       "55      6045         [56211, 59419, 49146, 60977, 76986, 69703]   \n",
       "80      6162  [54799, 65697, 48762, 54238, 53877, 76705, 539...   \n",
       "81      6163  [76498, 48303, 60015, 65787, 55270, 48278, 623...   \n",
       "89      6181  [4795, 227, 49419, 40247, 318, 27161, 317, 553...   \n",
       "90      6182  [5379, 54414, 40247, 55270, 5534, 66744, 47425...   \n",
       "105     6204                       [57542, 42364, 65230, 61364]   \n",
       "126     6234  [54613, 51228, 27130, 3639, 8328, 55015, 26958...   \n",
       "154     6294                                            [72191]   \n",
       "177     6350  [74439, 51228, 70685, 62281, 61913, 47306, 733...   \n",
       "178     6362                                            [55171]   \n",
       "183     6400  [27177, 78351, 55864, 62868, 50186, 40904, 782...   \n",
       "185     6409                              [78037, 54373, 60732]   \n",
       "186     6410                 [55283, 77961, 2111, 60732, 63157]   \n",
       "194     6470                                            [51228]   \n",
       "195     6471                                     [55191, 66389]   \n",
       "\n",
       "                                            members_id  \n",
       "19   [[72211, 10695, 40939, 76264, 36844], [57032, ...  \n",
       "20   [[3088, 52047, 1599, 23486], [23737, 28689, 20...  \n",
       "31   [[8915, 31980, 35604, 20864, 31981, 16589], [8...  \n",
       "33   [[38458, 56000, 42511, 5990, 62252, 39596], [1...  \n",
       "34   [[30152, 27822, 28751, 30270, 27403, 4270], [6...  \n",
       "55   [[137496, 87809, 139390, 72302, 60898, 61948, ...  \n",
       "80   [[149723, 131911, 131910, 147450, 149724, 1319...  \n",
       "81   [[24850, 39431, 79987, 102108, 77954, 180753, ...  \n",
       "89   [[59103, 60252, 66121, 163947, 37518, 83335], ...  \n",
       "90   [[7361, 152977, 175002], [130283, 66122, 16568...  \n",
       "105  [[36940, 62093, 18477, 159213, 141717, 173014]...  \n",
       "126  [[3767, 36568, 117262, 69243, 140120, 63149], ...  \n",
       "154                 [[199826, 199976, 200021, 200045]]  \n",
       "177  [[15595, 18543, 16621, 12318, 7773, 58616], [1...  \n",
       "178  [[41255, 3276, 104169, 133765, 128896, 10288, ...  \n",
       "183  [[16837, 18583, 23321, 29531, 31493, 37718], [...  \n",
       "185  [[9739], [130152, 116537, 54315, 39044], [1334...  \n",
       "186  [[31999, 67805, 21337, 70888], [4414, 111255],...  \n",
       "194                            [[12511, 26513, 29500]]  \n",
       "195  [[15683, 35857, 57018, 57022, 90835], [176743,...  "
      ]
     },
     "execution_count": 9,
     "metadata": {},
     "output_type": "execute_result"
    }
   ],
   "source": [
    "test = create_test(dict_of_result, test_id_tourn)\n",
    "test = test[test.teams_id.apply(lambda x: len(x))>0]\n",
    "test = test[test.members_id.apply(lambda x: len(x))>0]\n",
    "test = test[test.teams_id.apply(lambda x: len(x)) == test.members_id.apply(lambda x: len(x))]\n",
    "member_id = set(list(train.member_id.unique()))\n",
    "bad_rows = set()\n",
    "test = test.reset_index(drop = True)\n",
    "for idx, row in enumerate(test.members_id.to_list()):\n",
    "    for team in row:\n",
    "        if len(team) < 1:\n",
    "            bad_rows.add(idx)\n",
    "        for memb in team:\n",
    "            if memb not in member_id:\n",
    "                bad_rows.add(idx)\n",
    "print(bad_rows)\n",
    "test = test[~test.index.isin(list(bad_rows))]\n",
    "test"
   ]
  },
  {
   "cell_type": "code",
   "execution_count": 10,
   "id": "c8ce21b9",
   "metadata": {
    "ExecuteTime": {
     "end_time": "2022-04-17T19:39:35.550990Z",
     "start_time": "2022-04-17T19:39:35.548384Z"
    }
   },
   "outputs": [],
   "source": [
    "test_id_tourn = test.tour_id.tolist()"
   ]
  },
  {
   "cell_type": "markdown",
   "id": "b1f612df",
   "metadata": {},
   "source": [
    "в каждой строчке id турнира, id участника, id вопроса, и результат ответа команды"
   ]
  },
  {
   "cell_type": "code",
   "execution_count": 11,
   "id": "babbedf0",
   "metadata": {
    "ExecuteTime": {
     "end_time": "2022-04-17T19:39:35.561532Z",
     "start_time": "2022-04-17T19:39:35.552976Z"
    }
   },
   "outputs": [
    {
     "data": {
      "text/html": [
       "<div>\n",
       "<style scoped>\n",
       "    .dataframe tbody tr th:only-of-type {\n",
       "        vertical-align: middle;\n",
       "    }\n",
       "\n",
       "    .dataframe tbody tr th {\n",
       "        vertical-align: top;\n",
       "    }\n",
       "\n",
       "    .dataframe thead th {\n",
       "        text-align: right;\n",
       "    }\n",
       "</style>\n",
       "<table border=\"1\" class=\"dataframe\">\n",
       "  <thead>\n",
       "    <tr style=\"text-align: right;\">\n",
       "      <th></th>\n",
       "      <th>tour_id</th>\n",
       "      <th>member_id</th>\n",
       "      <th>quest_id</th>\n",
       "      <th>results</th>\n",
       "    </tr>\n",
       "  </thead>\n",
       "  <tbody>\n",
       "    <tr>\n",
       "      <th>0</th>\n",
       "      <td>5699</td>\n",
       "      <td>210505</td>\n",
       "      <td>5699 28</td>\n",
       "      <td>0</td>\n",
       "    </tr>\n",
       "    <tr>\n",
       "      <th>1</th>\n",
       "      <td>6254</td>\n",
       "      <td>209805</td>\n",
       "      <td>6254 37</td>\n",
       "      <td>0</td>\n",
       "    </tr>\n",
       "    <tr>\n",
       "      <th>2</th>\n",
       "      <td>5390</td>\n",
       "      <td>61631</td>\n",
       "      <td>5390 32</td>\n",
       "      <td>0</td>\n",
       "    </tr>\n",
       "    <tr>\n",
       "      <th>3</th>\n",
       "      <td>5760</td>\n",
       "      <td>193660</td>\n",
       "      <td>5760 30</td>\n",
       "      <td>1</td>\n",
       "    </tr>\n",
       "    <tr>\n",
       "      <th>4</th>\n",
       "      <td>5760</td>\n",
       "      <td>40998</td>\n",
       "      <td>5760 38</td>\n",
       "      <td>0</td>\n",
       "    </tr>\n",
       "  </tbody>\n",
       "</table>\n",
       "</div>"
      ],
      "text/plain": [
       "   tour_id  member_id quest_id  results\n",
       "0     5699     210505  5699 28        0\n",
       "1     6254     209805  6254 37        0\n",
       "2     5390      61631  5390 32        0\n",
       "3     5760     193660  5760 30        1\n",
       "4     5760      40998  5760 38        0"
      ]
     },
     "execution_count": 11,
     "metadata": {},
     "output_type": "execute_result"
    }
   ],
   "source": [
    "train.head()"
   ]
  },
  {
   "cell_type": "markdown",
   "id": "f026fbcd",
   "metadata": {},
   "source": [
    "### 2. Обучение бейзлайн модели"
   ]
  },
  {
   "cell_type": "markdown",
   "id": "9195a60a",
   "metadata": {},
   "source": [
    "В задании сказано учесть сложность вопросов, это можно было сделать по-разному. Но я решил сделать onehot представление этих вопросов, так как это самый простой способ и в дальнейшем очень просто считать $ln\\frac{\\pi_0}{\\pi_1}$ для ем алгоритма"
   ]
  },
  {
   "cell_type": "code",
   "execution_count": 12,
   "id": "5696ba01",
   "metadata": {
    "ExecuteTime": {
     "end_time": "2022-04-17T19:40:27.753947Z",
     "start_time": "2022-04-17T19:39:35.563502Z"
    }
   },
   "outputs": [],
   "source": [
    "enc = OneHotEncoder()\n",
    "X = enc.fit_transform(np.array(train[['member_id', 'quest_id']]))\n",
    "y = np.array(train['results'])"
   ]
  },
  {
   "cell_type": "code",
   "execution_count": 13,
   "id": "af143bdd",
   "metadata": {
    "ExecuteTime": {
     "end_time": "2022-04-17T19:42:28.458439Z",
     "start_time": "2022-04-17T19:40:27.755514Z"
    }
   },
   "outputs": [
    {
     "data": {
      "text/plain": [
       "LogisticRegression()"
      ]
     },
     "execution_count": 13,
     "metadata": {},
     "output_type": "execute_result"
    }
   ],
   "source": [
    "baseline = LogisticRegression()\n",
    "baseline.fit(X, y)"
   ]
  },
  {
   "cell_type": "code",
   "execution_count": 14,
   "id": "aa5f2475",
   "metadata": {
    "ExecuteTime": {
     "end_time": "2022-04-17T19:44:28.566959Z",
     "start_time": "2022-04-17T19:42:28.460264Z"
    }
   },
   "outputs": [
    {
     "data": {
      "text/plain": [
       "LogisticRegression()"
      ]
     },
     "execution_count": 14,
     "metadata": {},
     "output_type": "execute_result"
    }
   ],
   "source": [
    "baseline.fit(X, y)"
   ]
  },
  {
   "cell_type": "code",
   "execution_count": null,
   "id": "cae413ab",
   "metadata": {},
   "outputs": [],
   "source": []
  },
  {
   "cell_type": "markdown",
   "id": "e087539a",
   "metadata": {},
   "source": [
    "Словарь для поиска по user_id его веса в лог реге"
   ]
  },
  {
   "cell_type": "code",
   "execution_count": 15,
   "id": "aad646c0",
   "metadata": {
    "ExecuteTime": {
     "end_time": "2022-04-17T19:44:28.588077Z",
     "start_time": "2022-04-17T19:44:28.568946Z"
    }
   },
   "outputs": [],
   "source": [
    "userid_to_idx = dict()\n",
    "for idx, cat in enumerate(enc.categories_[0]):\n",
    "    userid_to_idx[cat] = idx"
   ]
  },
  {
   "cell_type": "code",
   "execution_count": 16,
   "id": "357e481d",
   "metadata": {
    "ExecuteTime": {
     "end_time": "2022-04-17T19:44:28.601552Z",
     "start_time": "2022-04-17T19:44:28.589877Z"
    }
   },
   "outputs": [],
   "source": [
    "coef_regr = baseline.coef_.copy()[0]"
   ]
  },
  {
   "cell_type": "markdown",
   "id": "e63a6561",
   "metadata": {},
   "source": [
    "### 3. Оцениваем результат"
   ]
  },
  {
   "cell_type": "markdown",
   "id": "e29be017",
   "metadata": {},
   "source": [
    "Оценивание силы команды - среднее по весам игроков в получившейся модели."
   ]
  },
  {
   "cell_type": "code",
   "execution_count": 17,
   "id": "8b61a865",
   "metadata": {
    "ExecuteTime": {
     "end_time": "2022-04-17T19:44:28.610771Z",
     "start_time": "2022-04-17T19:44:28.602950Z"
    }
   },
   "outputs": [],
   "source": [
    "def power_of_team(members_lst, coef_regr, userid_to_idx):\n",
    "    power = 0\n",
    "    for member in members_lst:\n",
    "        if member in userid_to_idx:\n",
    "            power += coef_regr[userid_to_idx[member]]\n",
    "        else:\n",
    "            power+= random.choice(coef_regr)\n",
    "    return power / len(members_lst)"
   ]
  },
  {
   "cell_type": "markdown",
   "id": "1e1edb4e",
   "metadata": {},
   "source": [
    "Функция для подсчёта средней корреляции на тестовом множестве."
   ]
  },
  {
   "cell_type": "code",
   "execution_count": 18,
   "id": "6a26a5e7",
   "metadata": {
    "ExecuteTime": {
     "end_time": "2022-04-17T19:44:28.617831Z",
     "start_time": "2022-04-17T19:44:28.613297Z"
    }
   },
   "outputs": [],
   "source": [
    "def calc_corrrlation(tst_table, coefs, enc_dict):\n",
    "    spear = []\n",
    "    cand = []\n",
    "    for i in range(tst_table.shape[0]):\n",
    "        row = tst_table.iloc[i]\n",
    "        ev = []\n",
    "        n_teams = len(row['teams_id'])\n",
    "        for idx, team in enumerate(row['teams_id']):\n",
    "            ev.append([idx, power_of_team(row['members_id'][idx], coefs, enc_dict)])\n",
    "        ev = sorted(ev, key=lambda x: x[1], reverse=True)\n",
    "        for j in range(n_teams):\n",
    "            ev[j]=ev[j][0]\n",
    "        cor=spearmanr(list(range(n_teams)), ev)[0]\n",
    "        if not math.isnan(cor):\n",
    "            spear.append(cor)\n",
    "        cor=kendalltau(list(range(n_teams)), ev)[0]\n",
    "        if not math.isnan(cor):\n",
    "            cand.append(cor)\n",
    "    return np.array(spear).mean(), np.array(cand).mean()"
   ]
  },
  {
   "cell_type": "code",
   "execution_count": 19,
   "id": "c651cbe1",
   "metadata": {
    "ExecuteTime": {
     "end_time": "2022-04-17T19:44:28.681671Z",
     "start_time": "2022-04-17T19:44:28.620340Z"
    }
   },
   "outputs": [
    {
     "data": {
      "text/plain": [
       "(0.7452147748195809, 0.621599549901412)"
      ]
     },
     "execution_count": 19,
     "metadata": {},
     "output_type": "execute_result"
    }
   ],
   "source": [
    "baseline_corr = calc_corrrlation(test, coef_regr, userid_to_idx)\n",
    "baseline_corr"
   ]
  },
  {
   "cell_type": "markdown",
   "id": "d1c28916",
   "metadata": {},
   "source": [
    "Качество baseline модели"
   ]
  },
  {
   "cell_type": "markdown",
   "id": "9e0ad5c6",
   "metadata": {},
   "source": [
    "### 4 EM-алгоритм"
   ]
  },
  {
   "cell_type": "markdown",
   "id": "bc17adbe",
   "metadata": {},
   "source": [
    "Поставим задачу у нас отвечает на вопрос команда, но непонятно какой из участников конкретно знал вопрос, поэтому мы стремимся скорректировать единички в нашем датасете.<br>\n",
    "Введем обозначения: <br>\n",
    "y = 1 значит команда ответила на вопрос. y = 0, то никто в команда не знает ответ на вопрос.<br>\n",
    "z = 1 значит игрок ответил на вопрос <br>\n",
    "s = 1 значит вопрос попался <br>\n",
    "По сути правильно предсказывать $p(z=1|\\overline{x})$, а не $p(y=1|\\overline{x})$ как было сделано в baseline модели. <br>\n",
    "Наша задача аналогична задаче про сусликов на лекции<br>\n",
    "$p(y=0|\\overline{x},s=1) = p(y=0|z=1,s=1)*p(z=1|\\overline{x},s=1) + p(y=0|z=0,s=1)*p(z=0|\\overline{x},s=1)$ <br>\n",
    "Первое слагаемое в сумме равно 0, так как $p(y=0|z=1,s=1) = 0$ то есть если игрок знает ответ, он бы ответил<br>\n",
    "Получаем $p(y=0|\\overline{x},s=1) = \\frac{p(y=0,z=0|s=1)}{p(z=0|s=1)}p(z=0|\\overline{x},s=1)$ <br>\n",
    "Если положить что $n_n$ - вопросы, на которые игрок не ответил, а $n_u$ - мы не знаем исход , то придем к выражению \n",
    "$p(y=0|\\overline{x},s=1) = \\frac{n_n}{n_n+(1-\\pi)*n_u}*p(z=0|\\overline{x},s=1)$, где $\\pi$ - это $p(z=1)$ <br>\n",
    "По итогу ситуация получается как на лекции, только с другими поправками. <br>\n",
    "$n_n$ и $n_u$ - я считал для каждого игрока отдельно, поправку $ln\\frac{\\pi_0}{\\pi_1}$ прибавлял отдельно для каждого игрока.\n",
    "Но опыты показали, что без поправки модель работает лучше(выше метрика). Поэтому я занулил эту поправку. Возможно неверно была определена $\\pi$, но искать ее не было возможности."
   ]
  },
  {
   "cell_type": "code",
   "execution_count": 24,
   "id": "bfff6f29",
   "metadata": {
    "ExecuteTime": {
     "end_time": "2022-04-17T19:54:52.924615Z",
     "start_time": "2022-04-17T19:54:52.916388Z"
    }
   },
   "outputs": [],
   "source": [
    "class EM_algo:\n",
    "    def __init__(self, X, y, userid_to_idx, tst_table, n_steps=4):\n",
    "        self.X = X\n",
    "        self.y = y\n",
    "        self.steps = n_steps\n",
    "        self.userid_to_idx = userid_to_idx\n",
    "        self.tst_table = tst_table\n",
    "        self.pi = 0.5\n",
    "        self.coef_regr = None\n",
    "\n",
    "    def power_of_team(self, members_lst):\n",
    "        power = 0\n",
    "        for member in members_lst:\n",
    "            if member in self.userid_to_idx:\n",
    "                power += self.coef_regr[self.userid_to_idx[member]]\n",
    "            else:\n",
    "                power += random.choice(coef_regr)\n",
    "        return power / len(members_lst)\n",
    "\n",
    "    def calc_correlation(self):\n",
    "        self.coef_regr = self.model.coef_.copy()\n",
    "        spear = []\n",
    "        cand = []\n",
    "        for i in range(self.tst_table.shape[0]):\n",
    "            row = self.tst_table.iloc[i]\n",
    "            ev = []\n",
    "            n_teams = len(row['teams_id'])\n",
    "            for idx, team in enumerate(row['teams_id']):\n",
    "                ev.append([idx, self.power_of_team(row['members_id'][idx])])\n",
    "            ev = sorted(ev, key=lambda x: x[1], reverse=True)\n",
    "            for j in range(n_teams):\n",
    "                ev[j] = ev[j][0]\n",
    "            cor = spearmanr(list(range(n_teams)), ev)[0]\n",
    "            if not math.isnan(cor):\n",
    "                spear.append(cor)\n",
    "            cor = kendalltau(list(range(n_teams)), ev)[0]\n",
    "            if not math.isnan(cor):\n",
    "                cand.append(cor)\n",
    "        return np.array(spear).mean(), np.array(cand).mean()\n",
    "\n",
    "    def train_baseline(self):\n",
    "        self.model = LinearRegression()\n",
    "        self.model.fit(X, y)\n",
    "\n",
    "\n",
    "    def E_step(self):\n",
    "        z = self.model.predict(self.X)\n",
    "        z = (1 + np.exp(-z))**(-1)\n",
    "        z = z * y\n",
    "        return z\n",
    "    \n",
    "    def M_step(self, z):\n",
    "        lnp0p1 = 0\n",
    "        z[z==0] = 0.01\n",
    "        target = np.log(z / (1 - z)) + lnp0p1\n",
    "        self.model = LinearRegression()\n",
    "        self.model.fit(X, target)\n",
    "    \n",
    "    def trainEM(self):\n",
    "        self.train_baseline()\n",
    "        for i in range(self.steps):\n",
    "            z = self.E_step()\n",
    "            self.M_step(z)"
   ]
  },
  {
   "cell_type": "code",
   "execution_count": 25,
   "id": "52e82b7d",
   "metadata": {
    "ExecuteTime": {
     "end_time": "2022-04-17T20:13:06.510650Z",
     "start_time": "2022-04-17T19:55:23.537611Z"
    }
   },
   "outputs": [],
   "source": [
    "EM = EM_algo(X, y, userid_to_idx, test)\n",
    "EM.trainEM()\n",
    "EM_correlation = EM.calc_correlation()"
   ]
  },
  {
   "cell_type": "code",
   "execution_count": 26,
   "id": "6076d5f7",
   "metadata": {
    "ExecuteTime": {
     "end_time": "2022-04-17T20:13:36.392169Z",
     "start_time": "2022-04-17T20:13:36.386793Z"
    }
   },
   "outputs": [
    {
     "data": {
      "text/plain": [
       "(0.7655967906224457, 0.6524269595588512)"
      ]
     },
     "execution_count": 26,
     "metadata": {},
     "output_type": "execute_result"
    }
   ],
   "source": [
    "EM_correlation"
   ]
  },
  {
   "cell_type": "code",
   "execution_count": 29,
   "id": "d1854537",
   "metadata": {
    "ExecuteTime": {
     "end_time": "2022-04-17T20:15:21.047919Z",
     "start_time": "2022-04-17T20:15:21.041210Z"
    }
   },
   "outputs": [
    {
     "name": "stdout",
     "output_type": "stream",
     "text": [
      "Улучшение корреляции спирмана по сравнению с бейзлайном\t0.020382015802864806\n",
      "Улучшение корреляции спирмана по сравнению с бейзлайном\t0.030827409657439242\n"
     ]
    }
   ],
   "source": [
    "print(f'Улучшение корреляции спирмана по сравнению с бейзлайном\\t{EM_correlation[0] - baseline_corr[0]}')\n",
    "print(f'Улучшение корреляции спирмана по сравнению с бейзлайном\\t{EM_correlation[1] - baseline_corr[1]}')"
   ]
  },
  {
   "cell_type": "markdown",
   "id": "21b30b74",
   "metadata": {},
   "source": [
    "Видно, что ЕМ алгоритм улучшает целевые показатели, однако из-за долгих расчетов, у меня нет возможности посмотреть предел для данного алгоритма"
   ]
  },
  {
   "cell_type": "code",
   "execution_count": null,
   "id": "ddd2c2b9",
   "metadata": {},
   "outputs": [],
   "source": []
  }
 ],
 "metadata": {
  "kernelspec": {
   "display_name": "Python 3 (ipykernel)",
   "language": "python",
   "name": "python3"
  },
  "language_info": {
   "codemirror_mode": {
    "name": "ipython",
    "version": 3
   },
   "file_extension": ".py",
   "mimetype": "text/x-python",
   "name": "python",
   "nbconvert_exporter": "python",
   "pygments_lexer": "ipython3",
   "version": "3.8.10"
  },
  "varInspector": {
   "cols": {
    "lenName": 16,
    "lenType": 16,
    "lenVar": 40
   },
   "kernels_config": {
    "python": {
     "delete_cmd_postfix": "",
     "delete_cmd_prefix": "del ",
     "library": "var_list.py",
     "varRefreshCmd": "print(var_dic_list())"
    },
    "r": {
     "delete_cmd_postfix": ") ",
     "delete_cmd_prefix": "rm(",
     "library": "var_list.r",
     "varRefreshCmd": "cat(var_dic_list()) "
    }
   },
   "types_to_exclude": [
    "module",
    "function",
    "builtin_function_or_method",
    "instance",
    "_Feature"
   ],
   "window_display": false
  }
 },
 "nbformat": 4,
 "nbformat_minor": 5
}
